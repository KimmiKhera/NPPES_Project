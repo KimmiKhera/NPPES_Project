{
 "cells": [
  {
   "cell_type": "code",
   "execution_count": 16,
   "metadata": {
    "scrolled": false
   },
   "outputs": [
    {
     "data": {
      "text/plain": [
       "771120348"
      ]
     },
     "execution_count": 16,
     "metadata": {},
     "output_type": "execute_result"
    }
   ],
   "source": [
    "#Block to access data from NPPES website through REST API\n",
    "import requests\n",
    "url = 'https://download.cms.gov/nppes/NPPES_Data_Dissemination_September_2020.zip'\n",
    "myfile = requests.get(url)\n",
    "open('C:/Users/kkher/Desktop/NPPES_Data_Dissemination_September_2020.zip', 'wb').write(myfile.content)"
   ]
  },
  {
   "cell_type": "code",
   "execution_count": 26,
   "metadata": {},
   "outputs": [],
   "source": [
    "#Block to unzip download file\n",
    "import zipfile\n",
    "with zipfile.ZipFile('C:/Users/kkher/Desktop/NPPES_Data_Dissemination_September_2020.zip', 'r') as zip_ref:\n",
    "    zip_ref.extractall('C:/Users/kkher/Desktop/September_2020')"
   ]
  },
  {
   "cell_type": "code",
   "execution_count": 18,
   "metadata": {},
   "outputs": [],
   "source": [
    "from datetime import datetime\n",
    "foldername = \"NPPES_\"+ datetime.today().strftime('%m-%d-%Y')"
   ]
  },
  {
   "cell_type": "code",
   "execution_count": 20,
   "metadata": {},
   "outputs": [],
   "source": [
    "#Block to read csv data through pandas\n",
    "import pandas as pd\n",
    "import re as search\n",
    "df = pd.read_csv ('C:/Users/kkher/Desktop/NPPES_10-05-2020/pl_pfile_20050523-20200712.csv')"
   ]
  },
  {
   "cell_type": "code",
   "execution_count": 3,
   "metadata": {},
   "outputs": [],
   "source": [
    "# import tkinter as tk\n",
    "# from tkinter import filedialog\n",
    "# import pandas as pd"
   ]
  },
  {
   "cell_type": "code",
   "execution_count": 21,
   "metadata": {},
   "outputs": [
    {
     "name": "stdout",
     "output_type": "stream",
     "text": [
      "NPI,AddressLine1,AddressLine2,CityName,StateName,PostalCode,CountryCode,TelephoneNumber,TelephoneExtension,FaxNumber\n"
     ]
    }
   ],
   "source": [
    "#Block to retrieve column names from csv file, and remove spaces from them\n",
    "import re as search\n",
    "\n",
    "def getColumnNames(y):\n",
    "    if search.search('-', y):\n",
    "        if search.search('\\(', y):\n",
    "            return y.split('-')[1].replace(\" \",\"\").split('(')[0]\n",
    "        else:\n",
    "            return y.split('-')[1].replace(\" \",\"\")\n",
    "    else:\n",
    "        return y.replace(\" \",\"\")\n",
    "    \n",
    "cols = [ getColumnNames(y) for y in df.columns.values]\n",
    "print(str(cols).replace(\"'\",\"\").replace(\"[\",\"\").replace(\"]\",\"\").replace(\" \",\"\"))"
   ]
  },
  {
   "cell_type": "code",
   "execution_count": 22,
   "metadata": {},
   "outputs": [],
   "source": [
    "#Block to make jdbc connection\n",
    "import pyodbc\n",
    "conn = pyodbc.connect('Driver={SQL Server Native Client 11.0};'\n",
    "                      'Server=DESKTOP-9L67UIL\\KASHISHSQL;'\n",
    "                      'Database=Test;'\n",
    "                      'Trusted_Connection=yes;')\n",
    "cursor = conn.cursor()"
   ]
  },
  {
   "cell_type": "code",
   "execution_count": 23,
   "metadata": {
    "scrolled": true
   },
   "outputs": [
    {
     "data": {
      "text/plain": [
       "NPI                   object\n",
       "AddressLine1          object\n",
       "AddressLine2          object\n",
       "City                  object\n",
       "State                 object\n",
       "PostalCode            object\n",
       "CountryCode           object\n",
       "TelephoneNumber       object\n",
       "TelephoneExtension    object\n",
       "FaxNumber             object\n",
       "dtype: object"
      ]
     },
     "execution_count": 23,
     "metadata": {},
     "output_type": "execute_result"
    }
   ],
   "source": [
    "import pandas as pd\n",
    "df = pd.DataFrame(columns= ['NPI', 'AddressLine1', 'AddressLine2', 'City', 'State', 'PostalCode', 'CountryCode', 'TelephoneNumber', 'TelephoneExtension', 'FaxNumber'])\n",
    "df.head()\n",
    "df.dtypes"
   ]
  },
  {
   "cell_type": "code",
   "execution_count": 24,
   "metadata": {
    "scrolled": true
   },
   "outputs": [
    {
     "data": {
      "text/plain": [
       "NPI                   object\n",
       "AddressLine1          object\n",
       "AddressLine2          object\n",
       "City                  object\n",
       "State                 object\n",
       "PostalCode            object\n",
       "CountryCode           object\n",
       "TelephoneNumber       object\n",
       "TelephoneExtension    object\n",
       "FaxNumber             object\n",
       "dtype: object"
      ]
     },
     "execution_count": 24,
     "metadata": {},
     "output_type": "execute_result"
    }
   ],
   "source": [
    "df['TelephoneExtension'] = df['TelephoneExtension'].astype(str)\n",
    "df['NPI'] = df['NPI'].astype(str)\n",
    "df.dtypes"
   ]
  },
  {
   "cell_type": "code",
   "execution_count": 27,
   "metadata": {},
   "outputs": [],
   "source": [
    "#Block to insert data into SQL Server\n",
    "for row in df.fillna(value=0).itertuples():\n",
    "    cursor.execute('''\n",
    "    INSERT INTO Test.dbo.NPPES_Data5(NPI, AddressLine_1, AddressLine_2, City, State, Postal_Code, Country_Code, Telephone_Number, Telephone_Extension, Fax_Number)\n",
    "    VALUES (?,?,?,?,?,?,?,?,?,?)\n",
    "    ''',\n",
    "                   row.NPI,\n",
    "                   row.AddressLine_1,\n",
    "                   row.AddressLine_2,\n",
    "                   row.City,\n",
    "                   row.State,\n",
    "                   row.Postal_Code,\n",
    "                   row.Country_Code,\n",
    "                   row.Telephone_Number,\n",
    "                   row.Telephone_Extension,\n",
    "                   row.Fax_Number\n",
    "                  )\n",
    "    conn.commit()\n",
    "    conn.close"
   ]
  }
 ],
 "metadata": {
  "kernelspec": {
   "display_name": "Python 3",
   "language": "python",
   "name": "python3"
  },
  "language_info": {
   "codemirror_mode": {
    "name": "ipython",
    "version": 3
   },
   "file_extension": ".py",
   "mimetype": "text/x-python",
   "name": "python",
   "nbconvert_exporter": "python",
   "pygments_lexer": "ipython3",
   "version": "3.8.3"
  }
 },
 "nbformat": 4,
 "nbformat_minor": 4
}
